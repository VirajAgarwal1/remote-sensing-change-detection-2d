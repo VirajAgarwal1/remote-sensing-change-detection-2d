{
 "cells": [
  {
   "cell_type": "code",
   "execution_count": 1,
   "metadata": {},
   "outputs": [],
   "source": [
    "import matplotlib.pyplot as plt\n",
    "import numpy as np\n",
    "import random\n",
    "from PIL import Image\n",
    "import PIL.ImageOps    \n",
    "\n",
    "import torchvision\n",
    "import torchvision.datasets as datasets\n",
    "import torchvision.transforms as transforms\n",
    "from torch.utils.data import DataLoader, Dataset\n",
    "import torchvision.utils\n",
    "import torch\n",
    "from torch.autograd import Variable\n",
    "import torch.nn as nn\n",
    "from torch import optim\n",
    "import torch.nn.functional as F"
   ]
  },
  {
   "cell_type": "code",
   "execution_count": 2,
   "metadata": {},
   "outputs": [],
   "source": [
    "class A (nn.Module):\n",
    "    def __init__(self):\n",
    "        super().__init__()\n",
    "\n",
    "        self.fcn1 = nn.Linear(128, 512)\n",
    "        self.act = nn.ReLU(inplace=True)\n",
    "        self.fcn2 = nn.Linear(512, 1024)\n",
    "        self.fcn3 = nn.Linear(1024, 512)\n",
    "        self.fcn4 = nn.Linear(512, 128)\n",
    "\n",
    "    def forward (self, x):\n",
    "        x = self.fcn1(x)\n",
    "        x = self.act(x)\n",
    "        x = self.fcn2(x)\n",
    "        x = self.act(x)\n",
    "        x = self.fcn3(x)\n",
    "        x = self.act(x)\n",
    "        x = self.fcn4(x)\n",
    "        return x\n",
    "    \n",
    "class B (nn.Module):\n",
    "    def __init__(self):\n",
    "        super().__init__()\n",
    "\n",
    "        self.A = A()\n",
    "        self.fcn1 = nn.Linear(128, 10)\n",
    "        self.act = nn.ReLU(inplace=True)\n",
    "        self.sig = nn.Sigmoid()\n",
    "\n",
    "    def forward (self, x):\n",
    "        x = self.A(x)\n",
    "        x = self.fcn1(x)\n",
    "        x = self.sig(x)\n",
    "        return x\n",
    "\n",
    "\n",
    "model = B()\n",
    "optimizer = optim.Adam(model.parameters(), lr=0.01)\n",
    "num_epochs = 10"
   ]
  },
  {
   "cell_type": "code",
   "execution_count": 4,
   "metadata": {},
   "outputs": [
    {
     "data": {
      "text/plain": [
       "<bound method Module.parameters of B(\n",
       "  (A): A(\n",
       "    (fcn1): Linear(in_features=128, out_features=512, bias=True)\n",
       "    (act): ReLU(inplace=True)\n",
       "    (fcn2): Linear(in_features=512, out_features=1024, bias=True)\n",
       "    (fcn3): Linear(in_features=1024, out_features=512, bias=True)\n",
       "    (fcn4): Linear(in_features=512, out_features=128, bias=True)\n",
       "  )\n",
       "  (fcn1): Linear(in_features=128, out_features=10, bias=True)\n",
       "  (act): ReLU(inplace=True)\n",
       "  (sig): Sigmoid()\n",
       ")>"
      ]
     },
     "execution_count": 4,
     "metadata": {},
     "output_type": "execute_result"
    }
   ],
   "source": [
    "model.parameters"
   ]
  },
  {
   "cell_type": "code",
   "execution_count": 2,
   "metadata": {},
   "outputs": [],
   "source": [
    "class CNN_select(nn.Module):\n",
    "    def __init__(self, in_channels, out_channels, kernel_size=3):\n",
    "        super(CNN_select, self).__init__()\n",
    "\n",
    "        if kernel_size==3:\n",
    "            self.cnn = nn.Conv2d(in_channels, out_channels, kernel_size=3, stride=1, padding=1, bias=False)\n",
    "        else:\n",
    "            self.cnn = nn.Conv2d(in_channels, out_channels, kernel_size=2, stride=2, padding=0, bias=False)\n",
    "        self.bn = nn.BatchNorm2d(out_channels)\n",
    "        self.act = nn.ReLU(inplace=True)\n",
    "\n",
    "    \n",
    "    def forward (self, x):\n",
    "        out = self.cnn(x)\n",
    "        out = self.bn(out)\n",
    "        out = self.act(out)\n",
    "\n",
    "        return out\n",
    "        \n",
    "\n",
    "def CNN_Block (cnn1, cnn2, x):\n",
    "    out = cnn1(x)\n",
    "    out = cnn2(out)\n",
    "    return out\n"
   ]
  },
  {
   "cell_type": "code",
   "execution_count": 3,
   "metadata": {},
   "outputs": [],
   "source": [
    "IMG_CHANNELS = 3"
   ]
  },
  {
   "cell_type": "code",
   "execution_count": 15,
   "metadata": {},
   "outputs": [],
   "source": [
    "\n",
    "class MultiScale_SNet_ShareWt (nn.Module):\n",
    "    def __init__ (self):\n",
    "        super(MultiScale_SNet_ShareWt, self).__init__()\n",
    "        \n",
    "        self.cnn_3 = nn.ModuleList([])\n",
    "        in_out_channels_3 = [(IMG_CHANNELS,8), (8,8), (16,16), (32,32), (64,64)]\n",
    "        for i in range(5):\n",
    "            self.cnn_3.append( CNN_select(in_out_channels_3[i][0], in_out_channels_3[i][1], 3) )\n",
    "        \n",
    "        self.cnn_2 = nn.ModuleList([])\n",
    "        in_out_channels_2 = [(8,16), (16,32), (32,64), (64,128)]\n",
    "        for i in range(4):\n",
    "            self.cnn_2.append( CNN_select(in_out_channels_2[i][0], in_out_channels_2[i][1], 2) )\n",
    "\n",
    "        self.convT = nn.ConvTranspose2d( 128, IMG_CHANNELS, 16, 16 )\n",
    "\n",
    "        # self.alpha = nn.Parameter(torch.tensor(np.random.random_sample(), requires_grad=True).float())\n",
    "        self.alpha = nn.Parameter(torch.tensor(0.5, requires_grad=True))\n",
    "        self.beta  = nn.Parameter(torch.tensor(np.random.random_sample(), requires_grad=True).float())\n",
    "        self.gamma = nn.Parameter(torch.tensor(np.random.random_sample(), requires_grad=True).float())\n",
    "        self.delta = nn.Parameter(torch.tensor(np.random.random_sample(), requires_grad=True).float())\n",
    "\n",
    "        self.max_pool_3d_8 = nn.MaxPool3d((8,1,1), (8,1,1), 0)\n",
    "        self.max_pool_3d_4 = nn.MaxPool3d((4,1,1), (4,1,1), 0)\n",
    "        self.max_pool_3d_2 = nn.MaxPool3d((2,1,1), (2,1,1), 0)\n",
    "\n",
    "        self.mul = torch.multiply\n",
    "\n",
    "    def forward_once (self, img):\n",
    "        \n",
    "        out = self.cnn_3[0](img)\n",
    "        \n",
    "        out = CNN_Block( self.cnn_3[1], self.cnn_2[0], out )\n",
    "        x1 = out.clone()\n",
    "        x1 = self.max_pool_3d_8(x1)\n",
    "        x1 = x1.reshape((-1, 128, 16, 16))\n",
    "        x1 = self.mul(self.alpha, x1)\n",
    "\n",
    "        out = CNN_Block( self.cnn_3[2], self.cnn_2[1], out )\n",
    "        x2 = out.clone()\n",
    "        x2 = self.max_pool_3d_4(x2)\n",
    "        x2 = x2.reshape((-1, 128, 16, 16))\n",
    "        x2 = self.mul(self.beta, x2)\n",
    "\n",
    "        out = CNN_Block( self.cnn_3[3], self.cnn_2[2], out )\n",
    "        x3 = out.clone()\n",
    "        x3 = self.max_pool_3d_2(x3)\n",
    "        x3 = x3.reshape((-1, 128, 16, 16))\n",
    "        x3 = self.mul(self.gamma, x3)\n",
    "\n",
    "        out = CNN_Block( self.cnn_3[4], self.cnn_2[3], out )\n",
    "        out = self.mul(self.delta, out)\n",
    "        \n",
    "        return x1, x2, x3, out\n",
    "\n",
    "    def forward_feature_extr (self, img1, img2):\n",
    "        x1, x2, x3, x4 = self.forward_once(img1)\n",
    "        x5, x6, x7, x8 = self.forward_once(img2)\n",
    "\n",
    "        out  = x4 + x8\n",
    "        out += x3 + x7\n",
    "        out += x2 + x6\n",
    "        out += x1 + x5\n",
    "\n",
    "        return out\n",
    "    \n",
    "    def forward (self, img1, img2):\n",
    "        out = self.forward_feature_extr(img1, img2)\n",
    "        out = self.convT(out)\n",
    "\n",
    "        return out"
   ]
  },
  {
   "cell_type": "code",
   "execution_count": 16,
   "metadata": {},
   "outputs": [
    {
     "data": {
      "text/plain": [
       "(torch.Size([1, 3, 256, 256]), torch.float32)"
      ]
     },
     "execution_count": 16,
     "metadata": {},
     "output_type": "execute_result"
    }
   ],
   "source": [
    "x1 = torch.randn(1,3,256,256).float()\n",
    "x2 = torch.randn(1,3,256,256).float()\n",
    "x1.shape, x1.dtype"
   ]
  },
  {
   "cell_type": "code",
   "execution_count": 17,
   "metadata": {},
   "outputs": [
    {
     "data": {
      "text/plain": [
       "torch.Size([1, 3, 256, 256])"
      ]
     },
     "execution_count": 17,
     "metadata": {},
     "output_type": "execute_result"
    }
   ],
   "source": [
    "net = MultiScale_SNet_ShareWt()\n",
    "y = net(x1, x2)\n",
    "y.shape"
   ]
  },
  {
   "cell_type": "code",
   "execution_count": 19,
   "metadata": {},
   "outputs": [
    {
     "data": {
      "text/plain": [
       "<bound method Module.requires_grad_ of MultiScale_SNet_ShareWt(\n",
       "  (cnn_3): ModuleList(\n",
       "    (0): CNN_select(\n",
       "      (cnn): Conv2d(3, 8, kernel_size=(3, 3), stride=(1, 1), padding=(1, 1), bias=False)\n",
       "      (bn): BatchNorm2d(8, eps=1e-05, momentum=0.1, affine=True, track_running_stats=True)\n",
       "      (act): ReLU(inplace=True)\n",
       "    )\n",
       "    (1): CNN_select(\n",
       "      (cnn): Conv2d(8, 8, kernel_size=(3, 3), stride=(1, 1), padding=(1, 1), bias=False)\n",
       "      (bn): BatchNorm2d(8, eps=1e-05, momentum=0.1, affine=True, track_running_stats=True)\n",
       "      (act): ReLU(inplace=True)\n",
       "    )\n",
       "    (2): CNN_select(\n",
       "      (cnn): Conv2d(16, 16, kernel_size=(3, 3), stride=(1, 1), padding=(1, 1), bias=False)\n",
       "      (bn): BatchNorm2d(16, eps=1e-05, momentum=0.1, affine=True, track_running_stats=True)\n",
       "      (act): ReLU(inplace=True)\n",
       "    )\n",
       "    (3): CNN_select(\n",
       "      (cnn): Conv2d(32, 32, kernel_size=(3, 3), stride=(1, 1), padding=(1, 1), bias=False)\n",
       "      (bn): BatchNorm2d(32, eps=1e-05, momentum=0.1, affine=True, track_running_stats=True)\n",
       "      (act): ReLU(inplace=True)\n",
       "    )\n",
       "    (4): CNN_select(\n",
       "      (cnn): Conv2d(64, 64, kernel_size=(3, 3), stride=(1, 1), padding=(1, 1), bias=False)\n",
       "      (bn): BatchNorm2d(64, eps=1e-05, momentum=0.1, affine=True, track_running_stats=True)\n",
       "      (act): ReLU(inplace=True)\n",
       "    )\n",
       "  )\n",
       "  (cnn_2): ModuleList(\n",
       "    (0): CNN_select(\n",
       "      (cnn): Conv2d(8, 16, kernel_size=(2, 2), stride=(2, 2), bias=False)\n",
       "      (bn): BatchNorm2d(16, eps=1e-05, momentum=0.1, affine=True, track_running_stats=True)\n",
       "      (act): ReLU(inplace=True)\n",
       "    )\n",
       "    (1): CNN_select(\n",
       "      (cnn): Conv2d(16, 32, kernel_size=(2, 2), stride=(2, 2), bias=False)\n",
       "      (bn): BatchNorm2d(32, eps=1e-05, momentum=0.1, affine=True, track_running_stats=True)\n",
       "      (act): ReLU(inplace=True)\n",
       "    )\n",
       "    (2): CNN_select(\n",
       "      (cnn): Conv2d(32, 64, kernel_size=(2, 2), stride=(2, 2), bias=False)\n",
       "      (bn): BatchNorm2d(64, eps=1e-05, momentum=0.1, affine=True, track_running_stats=True)\n",
       "      (act): ReLU(inplace=True)\n",
       "    )\n",
       "    (3): CNN_select(\n",
       "      (cnn): Conv2d(64, 128, kernel_size=(2, 2), stride=(2, 2), bias=False)\n",
       "      (bn): BatchNorm2d(128, eps=1e-05, momentum=0.1, affine=True, track_running_stats=True)\n",
       "      (act): ReLU(inplace=True)\n",
       "    )\n",
       "  )\n",
       "  (convT): ConvTranspose2d(128, 3, kernel_size=(16, 16), stride=(16, 16))\n",
       "  (max_pool_3d_8): MaxPool3d(kernel_size=(8, 1, 1), stride=(8, 1, 1), padding=0, dilation=1, ceil_mode=False)\n",
       "  (max_pool_3d_4): MaxPool3d(kernel_size=(4, 1, 1), stride=(4, 1, 1), padding=0, dilation=1, ceil_mode=False)\n",
       "  (max_pool_3d_2): MaxPool3d(kernel_size=(2, 1, 1), stride=(2, 1, 1), padding=0, dilation=1, ceil_mode=False)\n",
       ")>"
      ]
     },
     "execution_count": 19,
     "metadata": {},
     "output_type": "execute_result"
    }
   ],
   "source": [
    "net.requires_grad_"
   ]
  },
  {
   "cell_type": "code",
   "execution_count": 12,
   "metadata": {},
   "outputs": [],
   "source": [
    "class Dan(nn.Module):\n",
    "    def __init__(self):\n",
    "        super(Dan, self).__init__()\n",
    "        self.alpha = nn.Parameter(torch.tensor(0.5, requires_grad=True))"
   ]
  },
  {
   "cell_type": "code",
   "execution_count": 25,
   "metadata": {},
   "outputs": [
    {
     "data": {
      "text/plain": [
       "<bound method Module.requires_grad_ of Dan()>"
      ]
     },
     "execution_count": 25,
     "metadata": {},
     "output_type": "execute_result"
    }
   ],
   "source": [
    "model = Dan()\n",
    "for param in model.parameters():\n",
    "    param.requires_grad = True\n",
    "model.requires_grad_"
   ]
  },
  {
   "cell_type": "code",
   "execution_count": null,
   "metadata": {},
   "outputs": [],
   "source": [
    "z"
   ]
  },
  {
   "cell_type": "code",
   "execution_count": null,
   "metadata": {},
   "outputs": [],
   "source": [
    "x1"
   ]
  },
  {
   "cell_type": "code",
   "execution_count": null,
   "metadata": {},
   "outputs": [],
   "source": [
    "torch.multiply(x1, z)"
   ]
  },
  {
   "cell_type": "code",
   "execution_count": null,
   "metadata": {},
   "outputs": [],
   "source": [
    "net.zero_grad()"
   ]
  },
  {
   "cell_type": "code",
   "execution_count": 3,
   "metadata": {},
   "outputs": [],
   "source": [
    "from torch import diff, abs, concat\n",
    "from torch import nn\n",
    "import torch"
   ]
  },
  {
   "cell_type": "code",
   "execution_count": 4,
   "metadata": {},
   "outputs": [],
   "source": [
    "a = torch.tensor([1,2,3])\n",
    "b = torch.tensor([4,5,6])"
   ]
  },
  {
   "cell_type": "code",
   "execution_count": 11,
   "metadata": {},
   "outputs": [],
   "source": [
    "z = torch.abs(torch.sub( a,b ))"
   ]
  },
  {
   "cell_type": "code",
   "execution_count": 12,
   "metadata": {},
   "outputs": [
    {
     "data": {
      "text/plain": [
       "tensor([3, 3, 3])"
      ]
     },
     "execution_count": 12,
     "metadata": {},
     "output_type": "execute_result"
    }
   ],
   "source": [
    "z"
   ]
  },
  {
   "cell_type": "code",
   "execution_count": 14,
   "metadata": {},
   "outputs": [
    {
     "data": {
      "text/plain": [
       "tensor([1, 3, 3])"
      ]
     },
     "execution_count": 14,
     "metadata": {},
     "output_type": "execute_result"
    }
   ],
   "source": [
    "a[a >= 2] = 3\n",
    "a"
   ]
  },
  {
   "cell_type": "code",
   "execution_count": 21,
   "metadata": {},
   "outputs": [
    {
     "data": {
      "text/plain": [
       "tensor([[[[0.0555, 0.3193, 0.3099, 0.2801],\n",
       "          [0.1767, 0.9785, 0.6744, 0.1911],\n",
       "          [0.7703, 0.5647, 0.7983, 0.4751],\n",
       "          [0.7458, 0.9581, 0.8545, 0.3156]],\n",
       "\n",
       "         [[0.5464, 0.4841, 0.4404, 0.3347],\n",
       "          [0.2849, 0.7475, 0.5635, 0.7833],\n",
       "          [0.9801, 0.0139, 0.6048, 0.0775],\n",
       "          [0.3822, 0.5509, 0.9224, 0.6089]],\n",
       "\n",
       "         [[0.5026, 0.7549, 0.2861, 0.0518],\n",
       "          [0.6243, 0.1474, 0.3982, 0.8210],\n",
       "          [0.4324, 0.8772, 0.6539, 0.4765],\n",
       "          [0.8252, 0.1919, 0.1516, 0.1080]]]])"
      ]
     },
     "execution_count": 21,
     "metadata": {},
     "output_type": "execute_result"
    }
   ],
   "source": [
    "a = torch.abs(torch.rand(1,3,4,4))\n",
    "a"
   ]
  },
  {
   "cell_type": "code",
   "execution_count": 22,
   "metadata": {},
   "outputs": [
    {
     "data": {
      "text/plain": [
       "tensor([[[[0., 0., 0., 0.],\n",
       "          [0., 1., 0., 0.],\n",
       "          [1., 0., 1., 0.],\n",
       "          [1., 1., 1., 0.]],\n",
       "\n",
       "         [[0., 0., 0., 0.],\n",
       "          [0., 1., 0., 1.],\n",
       "          [1., 0., 0., 0.],\n",
       "          [0., 0., 1., 0.]],\n",
       "\n",
       "         [[0., 1., 0., 0.],\n",
       "          [0., 0., 0., 1.],\n",
       "          [0., 1., 0., 0.],\n",
       "          [1., 0., 0., 0.]]]])"
      ]
     },
     "execution_count": 22,
     "metadata": {},
     "output_type": "execute_result"
    }
   ],
   "source": [
    "a[a>=0.7] = 1\n",
    "a[a<0.7] = 0\n",
    "a"
   ]
  },
  {
   "cell_type": "code",
   "execution_count": null,
   "metadata": {},
   "outputs": [],
   "source": []
  }
 ],
 "metadata": {
  "kernelspec": {
   "display_name": "Python 3",
   "language": "python",
   "name": "python3"
  },
  "language_info": {
   "codemirror_mode": {
    "name": "ipython",
    "version": 3
   },
   "file_extension": ".py",
   "mimetype": "text/x-python",
   "name": "python",
   "nbconvert_exporter": "python",
   "pygments_lexer": "ipython3",
   "version": "3.8.10"
  },
  "orig_nbformat": 4
 },
 "nbformat": 4,
 "nbformat_minor": 2
}
